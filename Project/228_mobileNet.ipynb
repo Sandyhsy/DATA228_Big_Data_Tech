{
  "cells": [
    {
      "cell_type": "code",
      "execution_count": null,
      "metadata": {
        "colab": {
          "background_save": true,
          "base_uri": "https://localhost:8080/"
        },
        "id": "Qkl2Yk7umNRE",
        "outputId": "631461de-c07b-4646-fb18-e60da48c6591"
      },
      "outputs": [
        {
          "name": "stdout",
          "output_type": "stream",
          "text": [
            "Mounted at /content/drive\n",
            "--2025-05-02 17:51:08--  https://storage.googleapis.com/openimages/v6/oidv6-class-descriptions.csv\n",
            "Resolving storage.googleapis.com (storage.googleapis.com)... 142.250.141.207, 142.251.2.207, 74.125.137.207, ...\n",
            "Connecting to storage.googleapis.com (storage.googleapis.com)|142.250.141.207|:443... connected.\n",
            "HTTP request sent, awaiting response... 200 OK\n",
            "Length: 459351 (449K) [text/csv]\n",
            "Saving to: ‘oidv6-class-descriptions.csv’\n",
            "\n",
            "oidv6-class-descrip 100%[===================>] 448.58K  --.-KB/s    in 0.003s  \n",
            "\n",
            "2025-05-02 17:51:08 (136 MB/s) - ‘oidv6-class-descriptions.csv’ saved [459351/459351]\n",
            "\n",
            "--2025-05-02 17:51:09--  https://storage.googleapis.com/openimages/v6/oidv6-train-annotations-bbox.csv\n",
            "Resolving storage.googleapis.com (storage.googleapis.com)... 142.250.141.207, 142.251.2.207, 74.125.137.207, ...\n",
            "Connecting to storage.googleapis.com (storage.googleapis.com)|142.250.141.207|:443... connected.\n",
            "HTTP request sent, awaiting response... 200 OK\n",
            "Length: 2258447590 (2.1G) [text/csv]\n",
            "Saving to: ‘oidv6-train-annotations-bbox.csv’\n",
            "\n",
            "oidv6-train-annotat 100%[===================>]   2.10G   171MB/s    in 14s     \n",
            "\n",
            "2025-05-02 17:51:22 (158 MB/s) - ‘oidv6-train-annotations-bbox.csv’ saved [2258447590/2258447590]\n",
            "\n"
          ]
        },
        {
          "name": "stderr",
          "output_type": "stream",
          "text": [
            "Downloading harmful: 100%|██████████| 5098/5098 [1:13:26<00:00,  1.16it/s]\n",
            "Downloading safe: 100%|██████████| 7500/7500 [1:05:45<00:00,  1.90it/s]"
          ]
        },
        {
          "name": "stdout",
          "output_type": "stream",
          "text": [
            "✅ All images downloaded and split into train/val folders!\n"
          ]
        },
        {
          "name": "stderr",
          "output_type": "stream",
          "text": [
            "\n"
          ]
        }
      ],
      "source": [
        "# === 1. Mount Google Drive ===\n",
        "from google.colab import drive\n",
        "drive.mount('/content/drive')\n",
        "\n",
        "import os\n",
        "import pandas as pd\n",
        "import random\n",
        "import requests\n",
        "from tqdm import tqdm\n",
        "from shutil import move\n",
        "\n",
        "# === 2. Setup Paths ===\n",
        "root_dir = \"/content/drive/MyDrive/openimages_dataset\"\n",
        "os.makedirs(root_dir, exist_ok=True)\n",
        "for split in [\"train\", \"val\"]:\n",
        "    for category in [\"harmful\", \"safe\"]:\n",
        "        os.makedirs(os.path.join(root_dir, split, category), exist_ok=True)\n",
        "\n",
        "# # === 3. Download Metadata ===\n",
        "!wget https://storage.googleapis.com/openimages/v6/oidv6-class-descriptions.csv\n",
        "!wget https://storage.googleapis.com/openimages/v6/oidv6-train-annotations-bbox.csv\n",
        "\n",
        "# === 4. Load Metadata ===\n",
        "classes_df = pd.read_csv('oidv6-class-descriptions.csv', header=None)\n",
        "classes_df.columns = ['LabelName', 'ClassName']\n",
        "\n",
        "bbox_df = pd.read_csv('oidv6-train-annotations-bbox.csv')\n",
        "\n",
        "# === 5. User Input: Classes ===\n",
        "\n",
        "harmful_classes = [\n",
        "    \"Explosion\", \"Bomber\", \"Bloodhound\", \"Blood\", \"Guided missile destroyer\",\n",
        "    \"Bombyliidae\", \"Fire\", \"Sniper rifle\", \"Injury\", \"Explosive material\",\n",
        "    \"Knife throwing\", \"Gun\", \"Gunshot\", \"Firearm\", \"Knife\", \"Missile\",\n",
        "    \"Machine gun\", \"Explosive weapon\", \"Rifle\", \"Shotgun\", \"Weapon\",\n",
        "    \"Violence\", \"Death\", \"Bomb\", \"Handgun\", \"Assault rifle\", \"Accident\"\n",
        "]\n",
        "\n",
        "safe_classes = [\"Apple\", \"Animal\", \"Artichoke\", \"Auto part\", \"Bagel\", \"Baked goods\",\n",
        "    \"Aircraft\", \"Alarm clock\", \"Ant\", \"Ball\", \"Balloon\", \"Bathroom cabinet\",\n",
        "    \"Bear\", \"Bell pepper\", \"Baseball glove\", \"Cat\", \"Dog\", \"Horse\", \"Bird\",\n",
        "    \"Chair\", \"Table\", \"Tree\", \"Person\", \"Car\", \"Bicycle\",\n",
        "    \"Mountain\",\"River\",\"Smiling\"]\n",
        "\n",
        "max_images_per_category = 7500  # <<< tweak to fit ~2GB budget\n",
        "\n",
        "# === 6. Find Label Codes ===\n",
        "harmful_codes = classes_df[classes_df['ClassName'].isin(harmful_classes)]['LabelName'].tolist()\n",
        "safe_codes = classes_df[classes_df['ClassName'].isin(safe_classes)]['LabelName'].tolist()\n",
        "\n",
        "# === 7. Find Image IDs ===\n",
        "def get_image_ids(label_codes):\n",
        "    return bbox_df[bbox_df['LabelName'].isin(label_codes)]['ImageID'].unique().tolist()\n",
        "\n",
        "harmful_image_ids = get_image_ids(harmful_codes)\n",
        "safe_image_ids = get_image_ids(safe_codes)\n",
        "\n",
        "# Shuffle and limit\n",
        "random.shuffle(harmful_image_ids)\n",
        "random.shuffle(safe_image_ids)\n",
        "harmful_image_ids = harmful_image_ids[:max_images_per_category]\n",
        "safe_image_ids = safe_image_ids[:max_images_per_category]\n",
        "\n",
        "# === 8. Download Images ===\n",
        "def download_images(image_ids, label):\n",
        "    for image_id in tqdm(image_ids, desc=f\"Downloading {label}\"):\n",
        "        url = f\"https://open-images-dataset.s3.amazonaws.com/train/{image_id}.jpg\"\n",
        "        split = \"train\" if random.random() < 0.8 else \"val\"\n",
        "        save_path = os.path.join(root_dir, split, label, f\"{image_id}.jpg\")\n",
        "        try:\n",
        "            r = requests.get(url, timeout=10)\n",
        "            if r.status_code == 200:\n",
        "                with open(save_path, 'wb') as f:\n",
        "                    f.write(r.content)\n",
        "        except Exception as e:\n",
        "            print(f\"Failed to download {image_id}: {e}\")\n",
        "\n",
        "download_images(harmful_image_ids, \"harmful\")\n",
        "download_images(safe_image_ids, \"safe\")\n",
        "\n",
        "# === 9. ✅ Done! ===\n",
        "print(\"✅ All images downloaded and split into train/val folders!\")\n"
      ]
    },
    {
      "cell_type": "code",
      "execution_count": null,
      "metadata": {
        "colab": {
          "base_uri": "https://localhost:8080/"
        },
        "id": "5zxxyTD4Qcl5",
        "outputId": "bfb2af5a-6fd1-4d25-e5d0-2e7eb76689a1"
      },
      "outputs": [
        {
          "output_type": "stream",
          "name": "stdout",
          "text": [
            "Mounted at /content/drive\n"
          ]
        }
      ],
      "source": [
        "from google.colab import drive\n",
        "drive.mount('/content/drive')"
      ]
    },
    {
      "cell_type": "code",
      "execution_count": null,
      "metadata": {
        "colab": {
          "background_save": true
        },
        "id": "nyOjvuTq6SNi",
        "outputId": "0d4702ca-333a-42ad-e16a-db020e912e52"
      },
      "outputs": [
        {
          "name": "stdout",
          "output_type": "stream",
          "text": [
            "Training folder size: 4334.85 MB (4.23 GB)\n",
            "Validation folder size: 1248.82 MB (1.22 GB)\n",
            "Total dataset size: 5583.67 MB (5.45 GB)\n"
          ]
        }
      ],
      "source": [
        "def get_folder_size(folder_path):\n",
        "    total_size = 0\n",
        "    for dirpath, dirnames, filenames in os.walk(folder_path):\n",
        "        for filename in filenames:\n",
        "            filepath = os.path.join(dirpath, filename)\n",
        "            total_size += os.path.getsize(filepath)\n",
        "    return total_size\n",
        "\n",
        "# Example usage:\n",
        "train_size = get_folder_size('/content/drive/MyDrive/openimages_dataset/train')\n",
        "val_size = get_folder_size('/content/drive/MyDrive/openimages_dataset/val')\n",
        "\n",
        "# train_size = get_folder_size('https://drive.google.com/drive/folders/1830X86vDZzbuKGE-RihGorr3_bLOyjsd?usp=drive_link')\n",
        "# val_size = get_folder_size('https://drive.google.com/drive/folders/182l-dgwiCZldnIez4-wgEewGzg5Ezvbs?usp=drive_link')\n",
        "\n",
        "# Print sizes in MB and GB\n",
        "print(f\"Training folder size: {train_size / (1024**2):.2f} MB ({train_size / (1024**3):.2f} GB)\")\n",
        "print(f\"Validation folder size: {val_size / (1024**2):.2f} MB ({val_size / (1024**3):.2f} GB)\")\n",
        "print(f\"Total dataset size: {(train_size + val_size) / (1024**2):.2f} MB ({(train_size + val_size) / (1024**3):.2f} GB)\")"
      ]
    },
    {
      "cell_type": "code",
      "execution_count": null,
      "metadata": {
        "colab": {
          "background_save": true
        },
        "id": "OA07VnVTlZTN",
        "outputId": "a816bdba-b06d-48da-b6b1-07291ed93095"
      },
      "outputs": [
        {
          "name": "stdout",
          "output_type": "stream",
          "text": [
            "✅ Dataset trimmed to ~2GB with balanced classes!\n"
          ]
        }
      ],
      "source": [
        "import os\n",
        "import shutil\n",
        "import random\n",
        "\n",
        "# --- Paths ---\n",
        "original_train_path = '/content/drive/MyDrive/openimages_dataset/train'\n",
        "original_val_path = '/content/drive/MyDrive/openimages_dataset/val'\n",
        "\n",
        "new_dataset_path = '/content/drive/MyDrive/openimages_dataset_small'\n",
        "\n",
        "# Create new directories\n",
        "for split in ['train', 'val']:\n",
        "    for category in ['harmful', 'safe']:\n",
        "        os.makedirs(os.path.join(new_dataset_path, split, category), exist_ok=True)\n",
        "\n",
        "# --- How many images we want ---\n",
        "target_per_class = 3400  # Half of 2GB total\n",
        "\n",
        "# --- Function to copy limited images ---\n",
        "def copy_limited_images(source_folder, dest_folder, limit):\n",
        "    images = [img for img in os.listdir(source_folder) if img.endswith('.jpg')]\n",
        "    random.shuffle(images)\n",
        "    selected_images = images[:limit]\n",
        "\n",
        "    for img in selected_images:\n",
        "        shutil.copy(os.path.join(source_folder, img), os.path.join(dest_folder, img))\n",
        "\n",
        "# --- Copy Train Images ---\n",
        "copy_limited_images(os.path.join(original_train_path, 'harmful'), os.path.join(new_dataset_path, 'train', 'harmful'), target_per_class)\n",
        "copy_limited_images(os.path.join(original_train_path, 'safe'), os.path.join(new_dataset_path, 'train', 'safe'), target_per_class)\n",
        "\n",
        "# --- Copy Val Images ---\n",
        "copy_limited_images(os.path.join(original_val_path, 'harmful'), os.path.join(new_dataset_path, 'val', 'harmful'), int(target_per_class * 0.2))\n",
        "copy_limited_images(os.path.join(original_val_path, 'safe'), os.path.join(new_dataset_path, 'val', 'safe'), int(target_per_class * 0.2))\n",
        "\n",
        "print(\"✅ Dataset trimmed to ~2GB with balanced classes!\")\n"
      ]
    },
    {
      "cell_type": "code",
      "source": [
        "import os\n",
        "\n",
        "def get_folder_size(folder_path):\n",
        "    total_size = 0\n",
        "    for dirpath, dirnames, filenames in os.walk(folder_path):\n",
        "        for filename in filenames:\n",
        "            filepath = os.path.join(dirpath, filename)\n",
        "            total_size += os.path.getsize(filepath)\n",
        "    return total_size\n",
        "\n",
        "def count_images(folder_path):\n",
        "    image_count = 0\n",
        "    for dirpath, _, filenames in os.walk(folder_path):\n",
        "        image_count += len([f for f in filenames if f.lower().endswith(('.jpg', '.jpeg', '.png'))])\n",
        "    return image_count\n",
        "\n",
        "# --- Paths ---\n",
        "train_path = '/content/drive/MyDrive/openimages_dataset/train'\n",
        "val_path = '/content/drive/MyDrive/openimages_dataset/val'\n",
        "val_harmful = os.path.join(val_path, 'harmful')\n",
        "val_safe = os.path.join(val_path, 'safe')\n",
        "\n",
        "# --- Folder Sizes ---\n",
        "train_size = get_folder_size(train_path)\n",
        "val_size = get_folder_size(val_path)\n",
        "\n",
        "# --- Image Counts ---\n",
        "harmful_count = count_images(val_harmful)\n",
        "safe_count = count_images(val_safe)\n",
        "\n",
        "# --- Output ---\n",
        "print(f\"📦 Training folder size: {train_size / (1024**2):.2f} MB ({train_size / (1024**3):.2f} GB)\")\n",
        "print(f\"📁 Validation folder size: {val_size / (1024**2):.2f} MB ({val_size / (1024**3):.2f} GB)\")\n",
        "print(f\"🧾 Total dataset size: {(train_size + val_size) / (1024**2):.2f} MB ({(train_size + val_size) / (1024**3):.2f} GB)\\n\")\n",
        "\n",
        "print(f\"✅ Validation - Harmful images: {harmful_count}\")\n",
        "print(f\"✅ Validation - Safe images: {safe_count}\")\n",
        "print(f\"🧮 Total Validation Images: {harmful_count + safe_count}\")\n"
      ],
      "metadata": {
        "colab": {
          "base_uri": "https://localhost:8080/"
        },
        "id": "Z_k2sYGKdzLb",
        "outputId": "400d7a6a-9e39-4cda-af0d-85a27504f157"
      },
      "execution_count": null,
      "outputs": [
        {
          "output_type": "stream",
          "name": "stdout",
          "text": [
            "📦 Training folder size: 3172.59 MB (3.10 GB)\n",
            "📁 Validation folder size: 792.83 MB (0.77 GB)\n",
            "🧾 Total dataset size: 3965.41 MB (3.87 GB)\n",
            "\n",
            "✅ Validation - Harmful images: 996\n",
            "✅ Validation - Safe images: 1533\n",
            "🧮 Total Validation Images: 2529\n"
          ]
        }
      ]
    },
    {
      "cell_type": "code",
      "source": [],
      "metadata": {
        "id": "lfUvTt72eDN-"
      },
      "execution_count": null,
      "outputs": []
    },
    {
      "cell_type": "code",
      "execution_count": null,
      "metadata": {
        "id": "bYuvS88abWjH"
      },
      "outputs": [],
      "source": [
        "# --- Imports ---\n",
        "import torch\n",
        "import torch.nn as nn\n",
        "import torch.optim as optim\n",
        "from torch.utils.data import DataLoader\n",
        "from torchvision import transforms, models\n",
        "from torchvision.datasets import ImageFolder\n",
        "from google.colab import drive\n",
        "\n",
        "# --- Mount Drive ---\n",
        "drive.mount('/content/drive')\n",
        "\n",
        "# --- Setup Device ---\n",
        "device = torch.device('cuda' if torch.cuda.is_available() else 'cpu')\n",
        "print(f\"✅ Using device: {device}\")\n",
        "\n",
        "# --- Define Simple Transform ---\n",
        "transform = transforms.Compose([\n",
        "    transforms.Resize((224, 224)),\n",
        "    transforms.ToTensor(),\n",
        "])\n",
        "\n",
        "# --- Load Datasets ---\n",
        "train_dataset = ImageFolder('/content/drive/MyDrive/openimages_dataset_small/train', transform=transform)\n",
        "test_dataset = ImageFolder('/content/drive/MyDrive/openimages_dataset_small/val', transform=transform)\n",
        "\n",
        "train_loader = DataLoader(train_dataset, batch_size=32, shuffle=True)\n",
        "test_loader = DataLoader(test_dataset, batch_size=32, shuffle=False)\n",
        "\n",
        "print(f\"✅ Train samples: {len(train_dataset)}, Test samples: {len(test_dataset)}\")\n",
        "\n",
        "# --- Define MobileNetV2 Model ---\n",
        "model = models.mobilenet_v2(pretrained=True)\n",
        "\n",
        "# Modify classifier for 2 classes\n",
        "model.classifier[1] = nn.Linear(model.last_channel, 2)\n",
        "\n",
        "model = model.to(device)\n",
        "print(\"✅ MobileNetV2 model loaded and modified.\")\n",
        "\n",
        "# --- Define Loss and Optimizer ---\n",
        "criterion = nn.CrossEntropyLoss()\n",
        "optimizer = optim.Adam(model.parameters(), lr=0.001)\n",
        "\n",
        "# --- Training Loop ---\n",
        "num_epochs = 10\n",
        "\n",
        "for epoch in range(num_epochs):\n",
        "    model.train()\n",
        "    running_loss = 0.0\n",
        "\n",
        "    for inputs, labels in train_loader:\n",
        "        inputs, labels = inputs.to(device), labels.to(device)\n",
        "\n",
        "        optimizer.zero_grad()\n",
        "        outputs = model(inputs)\n",
        "        loss = criterion(outputs, labels)\n",
        "        loss.backward()\n",
        "        optimizer.step()\n",
        "\n",
        "        running_loss += loss.item()\n",
        "\n",
        "    avg_loss = running_loss / len(train_loader)\n",
        "    print(f\"Epoch {epoch+1}/{num_epochs}, Train Loss: {avg_loss:.4f}\")\n",
        "\n",
        "print(\"✅ Training complete.\")\n",
        "\n",
        "# --- Save Model ---\n",
        "torch.save(model.state_dict(), \"mobilenetv2_simple.pth\")\n",
        "print(\"✅ Model saved as 'mobilenetv2_simple.pth'\")\n"
      ]
    },
    {
      "cell_type": "code",
      "execution_count": null,
      "metadata": {
        "id": "Dq6xSR-ZseAN",
        "colab": {
          "base_uri": "https://localhost:8080/",
          "height": 219
        },
        "outputId": "1bdefce5-0eae-4532-d5ec-97e570b9b81a"
      },
      "outputs": [
        {
          "output_type": "error",
          "ename": "NameError",
          "evalue": "name 'model' is not defined",
          "traceback": [
            "\u001b[0;31m---------------------------------------------------------------------------\u001b[0m",
            "\u001b[0;31mNameError\u001b[0m                                 Traceback (most recent call last)",
            "\u001b[0;32m<ipython-input-3-4be1e6e284b6>\u001b[0m in \u001b[0;36m<cell line: 0>\u001b[0;34m()\u001b[0m\n\u001b[1;32m      2\u001b[0m \u001b[0;32mfrom\u001b[0m \u001b[0msklearn\u001b[0m\u001b[0;34m.\u001b[0m\u001b[0mmetrics\u001b[0m \u001b[0;32mimport\u001b[0m \u001b[0maccuracy_score\u001b[0m\u001b[0;34m,\u001b[0m \u001b[0mprecision_score\u001b[0m\u001b[0;34m,\u001b[0m \u001b[0mroc_auc_score\u001b[0m\u001b[0;34m\u001b[0m\u001b[0;34m\u001b[0m\u001b[0m\n\u001b[1;32m      3\u001b[0m \u001b[0;34m\u001b[0m\u001b[0m\n\u001b[0;32m----> 4\u001b[0;31m \u001b[0mmodel\u001b[0m \u001b[0;34m=\u001b[0m \u001b[0mmodel\u001b[0m\u001b[0;34m.\u001b[0m\u001b[0mload_state_dict\u001b[0m\u001b[0;34m(\u001b[0m\u001b[0mtorch\u001b[0m\u001b[0;34m.\u001b[0m\u001b[0mload\u001b[0m\u001b[0;34m(\u001b[0m\u001b[0;34m\"mobilenetv2_simple.pth\"\u001b[0m\u001b[0;34m)\u001b[0m\u001b[0;34m)\u001b[0m\u001b[0;34m\u001b[0m\u001b[0;34m\u001b[0m\u001b[0m\n\u001b[0m\u001b[1;32m      5\u001b[0m \u001b[0;34m\u001b[0m\u001b[0m\n\u001b[1;32m      6\u001b[0m \u001b[0;32mdef\u001b[0m \u001b[0mvalidate_model\u001b[0m\u001b[0;34m(\u001b[0m\u001b[0mmodel\u001b[0m\u001b[0;34m,\u001b[0m \u001b[0mdataloader\u001b[0m\u001b[0;34m,\u001b[0m \u001b[0mdevice\u001b[0m\u001b[0;34m)\u001b[0m\u001b[0;34m:\u001b[0m\u001b[0;34m\u001b[0m\u001b[0;34m\u001b[0m\u001b[0m\n",
            "\u001b[0;31mNameError\u001b[0m: name 'model' is not defined"
          ]
        }
      ],
      "source": [
        "# --- Validation Function ---\n",
        "from sklearn.metrics import accuracy_score, precision_score, roc_auc_score\n",
        "\n",
        "model = model.load_state_dict(torch.load(\"mobilenetv2_simple.pth\"))\n",
        "\n",
        "def validate_model(model, dataloader, device):\n",
        "    model.eval()\n",
        "    all_labels = []\n",
        "    all_preds = []\n",
        "    all_probs = []\n",
        "\n",
        "    with torch.no_grad():\n",
        "        for inputs, labels in dataloader:\n",
        "            inputs, labels = inputs.to(device), labels.to(device)\n",
        "\n",
        "            outputs = model(inputs)\n",
        "            probs = torch.softmax(outputs, dim=1)\n",
        "            preds = torch.argmax(probs, dim=1)\n",
        "\n",
        "            all_labels.extend(labels.cpu().numpy())\n",
        "            all_preds.extend(preds.cpu().numpy())\n",
        "            all_probs.extend(probs[:, 1].cpu().numpy())  # probability for harmful class\n",
        "\n",
        "    acc = accuracy_score(all_labels, all_preds)\n",
        "    precision = precision_score(all_labels, all_preds)\n",
        "    try:\n",
        "        roc_auc = roc_auc_score(all_labels, all_probs)\n",
        "    except:\n",
        "        roc_auc = None\n",
        "\n",
        "    print(f\"✅ Validation Accuracy: {acc:.4f}\")\n",
        "    print(f\"✅ Validation Precision: {precision:.4f}\")\n",
        "    if roc_auc is not None:\n",
        "        print(f\"✅ Validation ROC-AUC: {roc_auc:.4f}\")\n",
        "    else:\n",
        "        print(\"⚠️ ROC-AUC could not be calculated (only one class predicted).\")\n",
        "\n",
        "    return acc, precision, roc_auc\n",
        "\n",
        "# --- Run Validation ---\n",
        "validate_model(model, test_loader, device)"
      ]
    },
    {
      "cell_type": "code",
      "source": [
        "import torch\n",
        "import torch.nn as nn\n",
        "from torchvision import models\n",
        "\n",
        "# Set device\n",
        "device = torch.device('cuda' if torch.cuda.is_available() else 'cpu')\n",
        "\n",
        "# Rebuild model architecture\n",
        "model = models.mobilenet_v2(pretrained=True)\n",
        "model.classifier[1] = nn.Linear(model.last_channel, 2)\n",
        "model = model.to(device)\n",
        "\n",
        "# Load saved weights\n",
        "model.load_state_dict(torch.load(\"mobilenetv2_simple.pth\", map_location=device))\n",
        "model.eval()\n",
        "\n",
        "print(\"✅ Model loaded and ready for validation.\")\n"
      ],
      "metadata": {
        "colab": {
          "base_uri": "https://localhost:8080/"
        },
        "id": "249pv074VaC-",
        "outputId": "173ad133-258a-4b7c-ab67-3f72875b4414"
      },
      "execution_count": null,
      "outputs": [
        {
          "output_type": "stream",
          "name": "stdout",
          "text": [
            "✅ Model loaded and ready for validation.\n"
          ]
        }
      ]
    },
    {
      "cell_type": "code",
      "source": [
        "from torchvision.datasets import ImageFolder\n",
        "from torchvision import transforms\n",
        "from torch.utils.data import DataLoader\n",
        "\n",
        "transform = transforms.Compose([\n",
        "    transforms.Resize((224, 224)),\n",
        "    transforms.ToTensor(),\n",
        "])\n",
        "\n",
        "val_dataset = ImageFolder('/content/drive/MyDrive/openimages_dataset_small/val', transform=transform)\n",
        "val_loader = DataLoader(val_dataset, batch_size=32, shuffle=False)\n"
      ],
      "metadata": {
        "id": "tsIMCljWV3mx"
      },
      "execution_count": null,
      "outputs": []
    },
    {
      "cell_type": "code",
      "source": [
        "from sklearn.metrics import accuracy_score, precision_score, roc_auc_score, roc_curve\n",
        "import matplotlib.pyplot as plt\n",
        "\n",
        "def validate_model_with_auc_curve(model, dataloader, device):\n",
        "    model.eval()\n",
        "    all_labels = []\n",
        "    all_preds = []\n",
        "    all_probs = []\n",
        "\n",
        "    with torch.no_grad():\n",
        "        for inputs, labels in dataloader:\n",
        "            inputs, labels = inputs.to(device), labels.to(device)\n",
        "\n",
        "            outputs = model(inputs)\n",
        "            probs = torch.softmax(outputs, dim=1)\n",
        "            preds = torch.argmax(probs, dim=1)\n",
        "\n",
        "            all_labels.extend(labels.cpu().numpy())\n",
        "            all_preds.extend(preds.cpu().numpy())\n",
        "            all_probs.extend(probs[:, 1].cpu().numpy())  # Probability for harmful class\n",
        "\n",
        "    acc = accuracy_score(all_labels, all_preds)\n",
        "    precision = precision_score(all_labels, all_preds)\n",
        "\n",
        "    try:\n",
        "        roc_auc = roc_auc_score(all_labels, all_probs)\n",
        "        fpr, tpr, _ = roc_curve(all_labels, all_probs)\n",
        "\n",
        "        # Plot AUC Curve\n",
        "        plt.figure(figsize=(8, 6))\n",
        "        plt.plot(fpr, tpr, color='blue', label=f'AUC = {roc_auc:.4f}')\n",
        "        plt.plot([0, 1], [0, 1], color='gray', linestyle='--')\n",
        "        plt.xlabel('False Positive Rate')\n",
        "        plt.ylabel('True Positive Rate')\n",
        "        plt.title('ROC-AUC Curve')\n",
        "        plt.legend()\n",
        "        plt.grid(True)\n",
        "        plt.show()\n",
        "\n",
        "    except Exception as e:\n",
        "        roc_auc = None\n",
        "        print(\"⚠️ ROC-AUC could not be calculated:\", e)\n",
        "\n",
        "    print(f\"✅ Validation Accuracy: {acc:.4f}\")\n",
        "    print(f\"✅ Validation Precision: {precision:.4f}\")\n",
        "    if roc_auc is not None:\n",
        "        print(f\"✅ Validation ROC-AUC: {roc_auc:.4f}\")\n",
        "\n",
        "    return acc, precision, roc_auc\n",
        "\n",
        "# --- Run It ---\n",
        "validate_model_with_auc_curve(model, val_loader, device)\n",
        "\n"
      ],
      "metadata": {
        "colab": {
          "base_uri": "https://localhost:8080/",
          "height": 637
        },
        "id": "gtisc9tQRziV",
        "outputId": "3a0e8140-868b-42a4-f338-b3cf674fb020"
      },
      "execution_count": null,
      "outputs": [
        {
          "output_type": "display_data",
          "data": {
            "text/plain": [
              "<Figure size 800x600 with 1 Axes>"
            ],
            "image/png": "[encoded data removed]"
          },
          "metadata": {}
        },
        {
          "output_type": "stream",
          "name": "stdout",
          "text": [
            "✅ Validation Accuracy: 0.8353\n",
            "✅ Validation Precision: 0.8048\n",
            "✅ Validation ROC-AUC: 0.9189\n"
          ]
        },
        {
          "output_type": "execute_result",
          "data": {
            "text/plain": [
              "(0.8352941176470589, 0.8048128342245989, np.float64(0.9189381487889274))"
            ]
          },
          "metadata": {},
          "execution_count": 16
        }
      ]
    }
  ],
  "metadata": {
    "colab": {
      "gpuType": "T4",
      "provenance": []
    },
    "kernelspec": {
      "display_name": "Python 3",
      "name": "python3"
    },
    "language_info": {
      "name": "python"
    }
  },
  "nbformat": 4,
  "nbformat_minor": 0
}